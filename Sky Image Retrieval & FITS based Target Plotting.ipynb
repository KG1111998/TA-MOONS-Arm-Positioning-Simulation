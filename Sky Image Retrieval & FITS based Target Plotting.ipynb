{
 "cells": [
  {
   "cell_type": "code",
   "execution_count": 1,
   "id": "4eba97ac",
   "metadata": {},
   "outputs": [],
   "source": [
    "import os\n",
    "import numpy as np\n",
    "import pandas as pd\n",
    "from astroquery.skyview import SkyView\n",
    "from astropy.io import fits\n",
    "from astropy.coordinates import SkyCoord\n",
    "from astropy.wcs import WCS\n",
    "import astropy.units as u\n",
    "import matplotlib.pyplot as plt\n"
   ]
  },
  {
   "cell_type": "code",
   "execution_count": 4,
   "id": "216b587c",
   "metadata": {},
   "outputs": [
    {
     "name": "stdout",
     "output_type": "stream",
     "text": [
      "IC348\n"
     ]
    }
   ],
   "source": [
    "# Load previously saved grouped YSO data\n",
    "grouped_path = r\"C:\\Users\\kgokh\\Downloads\\TAMOONS\\grouped_ysos_IC348.csv\"\n",
    "df = pd.read_csv(grouped_path)\n",
    "\n",
    "source_name = grouped_path.replace(r\"C:\\Users\\kgokh\\Downloads\\TAMOONS\\grouped_ysos_\", \"\").replace(\".csv\", \"\")\n",
    "print(source_name)  "
   ]
  },
  {
   "cell_type": "code",
   "execution_count": null,
   "id": "19e02629",
   "metadata": {},
   "outputs": [],
   "source": [
    "# Create a list of subgroups\n",
    "final_sublists = [group.reset_index(drop=True) for _, group in df.groupby('Group')]\n",
    "\n",
    "# Compute global sky center\n",
    "ra_global_median = df['RA_deg'].median()\n",
    "dec_global_median = df['DEC_deg'].median()\n",
    "median_coord = SkyCoord(ra=ra_global_median*u.deg, dec=dec_global_median*u.deg)\n"
   ]
  },
  {
   "cell_type": "code",
   "execution_count": null,
   "id": "1b1beadf",
   "metadata": {},
   "outputs": [],
   "source": [
    "# Create output folders for FITS images and previews\n",
    "main_dir = os.getcwd()\n",
    "fits_dir = os.path.join(main_dir, f\"fits_images_{source_name}\")\n",
    "preview_dir = os.path.join(main_dir, f\"fits_previews_{source_name}\")\n",
    "os.makedirs(fits_dir, exist_ok=True)\n",
    "os.makedirs(preview_dir, exist_ok=True)\n",
    "\n",
    "# Initialize list \n",
    "group_summaries = []\n"
   ]
  },
  {
   "cell_type": "code",
   "execution_count": null,
   "id": "4034d2f0",
   "metadata": {},
   "outputs": [],
   "source": [
    "# Loop through each group and fetch its FITS image\n",
    "for i, group in enumerate(final_sublists, 1):\n",
    "    group_coords = SkyCoord(ra=group['RA_deg'].values*u.deg, dec=group['DEC_deg'].values*u.deg)\n",
    "\n",
    "    # Compute the group’s center position\n",
    "    ra_mean = group['RA_deg'].mean()\n",
    "    dec_mean = group['DEC_deg'].mean()\n",
    "    mean_coord = SkyCoord(ra=ra_mean*u.deg, dec=dec_mean*u.deg)\n",
    "\n",
    "    # Find farthest offset from the mean\n",
    "    offsets = [mean_coord.separation(c).arcminute for c in group_coords]\n",
    "    max_offset = max(offsets)\n",
    "\n",
    "    # Replace center if too close to each other (fallback to global)\n",
    "    if max_offset < 0.3:\n",
    "        ra_used, dec_used = ra_global_median, dec_global_median\n",
    "        coord_used = median_coord\n",
    "        print(f\"🔁 Group {i} center replaced with global median (too close)\")\n",
    "    else:\n",
    "        ra_used, dec_used = ra_mean, dec_mean\n",
    "        coord_used = mean_coord\n",
    "\n",
    "    group_summaries.append({\n",
    "        'Group': i,\n",
    "        'N_Targets': len(group),\n",
    "        'RA_center': ra_used,\n",
    "        'DEC_center': dec_used\n",
    "    })\n",
    "\n",
    "    # Try fetching DSS image for this group\n",
    "    try:\n",
    "        print(f\" Downloading Group {i} image...\")\n",
    "        images = SkyView.get_images(position=coord_used, survey=['DSS'], radius=0.1 * u.deg)\n",
    "        if not images:\n",
    "            print(f\"⚠️ No FITS found for Group {i}\")\n",
    "            continue\n",
    "\n",
    "        fits_path = os.path.join(fits_dir, f\"group_{i}_{source_name}.fits\")\n",
    "        images[0].writeto(fits_path, overwrite=True)\n",
    "\n",
    "        # Read FITS and set up WCS\n",
    "        hdul = fits.open(fits_path)\n",
    "        hdu = hdul[0]\n",
    "        wcs = WCS(hdu.header)\n",
    "        data = hdu.data\n"
   ]
  },
  {
   "cell_type": "code",
   "execution_count": null,
   "id": "fa4b679a",
   "metadata": {},
   "outputs": [],
   "source": [
    "        # Generate image with proper scaling\n",
    "        plt.figure(figsize=(6, 6))\n",
    "        try:\n",
    "            vmin = np.nanpercentile(data, 5)\n",
    "            vmax = np.nanpercentile(data, 95)\n",
    "        except:\n",
    "            vmin, vmax = np.nanmin(data), np.nanmax(data)\n",
    "\n",
    "        plt.imshow(data, cmap='gray', origin='lower', vmin=vmin, vmax=vmax)\n",
    "\n",
    "        # Center pixel\n",
    "        center_x, center_y = wcs.world_to_pixel(coord_used)\n",
    "\n",
    "        for _, star in group.iterrows():\n",
    "            star_coord = SkyCoord(star['RA_deg'], star['DEC_deg'], unit='deg')\n",
    "            xpix, ypix = wcs.world_to_pixel(star_coord)\n",
    "\n",
    "            dx_arcmin = (xpix - center_x) * abs(wcs.wcs.cdelt[0]) * 60\n",
    "            dy_arcmin = (ypix - center_y) * abs(wcs.wcs.cdelt[1]) * 60\n",
    "            offset = np.sqrt(dx_arcmin**2 + dy_arcmin**2)\n",
    "\n",
    "            plt.plot(xpix, ypix, 'ro', markersize=5)\n",
    "            plt.text(xpix + 5, ypix + 5, f\"{offset:.2f}\\\"\", color='yellow', fontsize=8)\n"
   ]
  },
  {
   "cell_type": "code",
   "execution_count": null,
   "id": "fcf80019",
   "metadata": {},
   "outputs": [],
   "source": [
    "        # Setup axes with ΔRA and ΔDEC\n",
    "        x_ticks = np.linspace(-6, 6, 5)\n",
    "        y_ticks = np.linspace(-6, 6, 5)\n",
    "        arcmin_per_pix = abs(wcs.wcs.cdelt[0]) * 60\n",
    "        xticks_pix = center_x + x_ticks / arcmin_per_pix\n",
    "        yticks_pix = center_y + y_ticks / arcmin_per_pix\n",
    "\n",
    "        plt.xticks(xticks_pix, [f\"{x:.1f}\" for x in x_ticks])\n",
    "        plt.yticks(yticks_pix, [f\"{y:.1f}\" for y in y_ticks])\n",
    "\n",
    "        plt.xlabel(\"ΔRA (arcmin)\")\n",
    "        plt.ylabel(\"ΔDEC (arcmin)\")\n",
    "        plt.title(f\"Group {i} - DSS\")\n",
    "        plt.grid(True)\n",
    "        plt.tight_layout()\n",
    "\n",
    "        preview_path = os.path.join(preview_dir, f\"group_{i}_preview_{source_name}.png\")\n",
    "        plt.savefig(preview_path, bbox_inches='tight')\n",
    "        plt.close()\n",
    "\n",
    "        print(f\" Group {i} preview saved\")\n",
    "\n",
    "    except Exception as e:\n",
    "        print(f\" Error Group {i}: {e}\")\n"
   ]
  },
  {
   "cell_type": "code",
   "execution_count": null,
   "id": "12b1959c",
   "metadata": {},
   "outputs": [],
   "source": [
    "# Save the final summary CSV with group centers\n",
    "summary_df = pd.DataFrame(group_summaries)\n",
    "summary_out = os.path.join(main_dir, f\"group_summary_{source_name}.csv\")\n",
    "summary_df.to_csv(summary_out, index=False)\n",
    "\n",
    "print(f\"\\n📊 Group summary saved at: {summary_out}\")\n"
   ]
  }
 ],
 "metadata": {
  "kernelspec": {
   "display_name": "Python 3 (ipykernel)",
   "language": "python",
   "name": "python3"
  },
  "language_info": {
   "codemirror_mode": {
    "name": "ipython",
    "version": 3
   },
   "file_extension": ".py",
   "mimetype": "text/x-python",
   "name": "python",
   "nbconvert_exporter": "python",
   "pygments_lexer": "ipython3",
   "version": "3.9.19"
  }
 },
 "nbformat": 4,
 "nbformat_minor": 5
}
