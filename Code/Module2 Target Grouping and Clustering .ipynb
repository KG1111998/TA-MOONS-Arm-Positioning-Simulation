{
 "cells": [
  {
   "cell_type": "code",
   "execution_count": 14,
   "id": "7bd6c97d",
   "metadata": {},
   "outputs": [
    {
     "name": "stdout",
     "output_type": "stream",
     "text": [
      "Enter Source name (Format=\"V1139_cyg\"): NGC_2316\n"
     ]
    }
   ],
   "source": [
    "source_name=input('Enter Source name (Format=\"V1139_cyg\"): ')"
   ]
  },
  {
   "cell_type": "code",
   "execution_count": 15,
   "id": "eb31dc97",
   "metadata": {},
   "outputs": [],
   "source": [
    "import os\n",
    "import numpy as np\n",
    "import pandas as pd\n",
    "import matplotlib.pyplot as plt\n",
    "from astropy.coordinates import SkyCoord\n",
    "import astropy.units as u\n",
    "from sklearn.cluster import KMeans\n",
    "from math import ceil"
   ]
  },
  {
   "cell_type": "code",
   "execution_count": 16,
   "id": "8d611bad",
   "metadata": {},
   "outputs": [],
   "source": [
    "csv_path = fr\"C:\\Users\\kgokh\\Downloads\\TAMOONS NEW FILE\\selected_ysos_{source_name}.csv\"\n",
    "ysos_df = pd.read_csv(csv_path)"
   ]
  },
  {
   "cell_type": "code",
   "execution_count": 17,
   "id": "2696ca5b",
   "metadata": {},
   "outputs": [
    {
     "name": "stdout",
     "output_type": "stream",
     "text": [
      " Using median center: RA=104.926663, DEC=-7.8474125\n"
     ]
    }
   ],
   "source": [
    "ra_center_deg = ysos_df['RA_deg'].median()\n",
    "dec_center_deg = ysos_df['DEC_deg'].median()\n",
    "coord_center = SkyCoord(ra=ra_center_deg*u.deg, dec=dec_center_deg*u.deg)\n",
    "print(f\" Using median center: RA={ra_center_deg}, DEC={dec_center_deg}\")"
   ]
  },
  {
   "cell_type": "code",
   "execution_count": 18,
   "id": "bfffa3d7",
   "metadata": {},
   "outputs": [],
   "source": [
    "ysos_df['coord'] = [SkyCoord(ra=ra*u.deg, dec=dec*u.deg)\n",
    "                    for ra, dec in zip(ysos_df['RA_deg'], ysos_df['DEC_deg'])]\n",
    "ysos_df['offset_arcmin'] = [c.separation(coord_center).arcminute for c in ysos_df['coord']]"
   ]
  },
  {
   "cell_type": "code",
   "execution_count": 19,
   "id": "70af27b7",
   "metadata": {},
   "outputs": [],
   "source": [
    "ysos_df = ysos_df[(ysos_df['offset_arcmin'] > 0.3) & (ysos_df['offset_arcmin'] <= 6)]"
   ]
  },
  {
   "cell_type": "code",
   "execution_count": 20,
   "id": "85a74592",
   "metadata": {},
   "outputs": [],
   "source": [
    "ysos_df['Jmag_bin'] = ysos_df['Jmag'].apply(lambda x: round(x * 2) / 2)\n",
    "magnitude_groups = ysos_df.groupby('Jmag_bin')"
   ]
  },
  {
   "cell_type": "code",
   "execution_count": 21,
   "id": "37c267cc",
   "metadata": {},
   "outputs": [],
   "source": [
    "initial_sublists = []\n",
    "for mag, group in magnitude_groups:\n",
    "    group = group.sort_values('offset_arcmin')\n",
    "    chunks = [] \n",
    "    i = 0        \n",
    "    while i < len(group):\n",
    "        chunk = group.iloc[i:i+8].copy()  \n",
    "        chunks.append(chunk)              \n",
    "        i += 8                            \n",
    "    initial_sublists.extend(chunks)"
   ]
  },
  {
   "cell_type": "code",
   "execution_count": 22,
   "id": "db5f7ee4",
   "metadata": {},
   "outputs": [],
   "source": [
    "def collision_check(sublist, min_sep=1.0):\n",
    "    valid_targets = [] \n",
    "    for index, row in sublist.iterrows():\n",
    "        initial_star = row  \n",
    "        initial_star_coord = initial_star['coord']\n",
    "        is_far_enough = True\n",
    "        for selected_star in valid_targets:\n",
    "            other_coord = selected_star['coord']\n",
    "            separation = initial_star_coord.separation(other_coord).arcminute \n",
    "            if separation < min_sep:\n",
    "                is_far_enough = False\n",
    "                break \n",
    "        if is_far_enough:\n",
    "            valid_targets.append(initial_star) \n",
    "    return pd.DataFrame(valid_targets)"
   ]
  },
  {
   "cell_type": "code",
   "execution_count": 23,
   "id": "6dcff9da",
   "metadata": {},
   "outputs": [],
   "source": [
    "collision_check_sublists = []\n",
    "for sublist in initial_sublists:\n",
    "    filtered = collision_check(sublist)\n",
    "    collision_check_sublists.append(filtered)"
   ]
  },
  {
   "cell_type": "code",
   "execution_count": 25,
   "id": "188fac3b",
   "metadata": {},
   "outputs": [],
   "source": [
    "final_sublists_after_kmeans = []\n",
    "for group in collision_check_sublists:\n",
    "    if len(group) > 8:\n",
    "        coords_array = np.array([\n",
    "            [c.ra.degree, c.dec.degree] for c in group['coord']\n",
    "        ])\n",
    "        k = ceil(len(group) / 8)\n",
    "        kmeans = KMeans(n_clusters=k, random_state=42).fit(coords_array)\n",
    "        group['cluster'] = kmeans.labels_\n",
    "        for label in range(k):\n",
    "            cluster_group = group[group['cluster'] == label].drop(columns='cluster')\n",
    "            final_sublists_after_kmeans.append(cluster_group)\n",
    "    else:\n",
    "        final_sublists_after_kmeans.append(group)"
   ]
  },
  {
   "cell_type": "code",
   "execution_count": 26,
   "id": "2ee43dc4",
   "metadata": {},
   "outputs": [
    {
     "name": "stdout",
     "output_type": "stream",
     "text": [
      "Total groups: 12. Results saved to 'grouped_ysos_NGC_2316.csv'.\n"
     ]
    }
   ],
   "source": [
    "output = []\n",
    "for i, group in enumerate(final_sublists_after_kmeans, 1):\n",
    "    for _, row in group.iterrows():\n",
    "        coord = row['coord']\n",
    "        ra_hms, dec_dms = coord.to_string('hmsdms').split()\n",
    "        output.append({\n",
    "            'Group': i,\n",
    "            'GAIA_Source_ID': row['GAIA_Source_ID'],\n",
    "            'RA_HMS': ra_hms,\n",
    "            'DEC_DMS': dec_dms,\n",
    "            'RA_deg': coord.ra.degree,\n",
    "            'DEC_deg': coord.dec.degree,\n",
    "            'Jmag': row['Jmag'],\n",
    "            'Offset_arcmin': row['offset_arcmin']\n",
    "        })\n",
    "\n",
    "df_out = pd.DataFrame(output)\n",
    "df_out.to_csv(f\"grouped_ysos_{source_name}.csv\", index=False)\n",
    "print(f\"Total groups: {len(final_sublists_after_kmeans)}. Results saved to 'grouped_ysos_{source_name}.csv'.\")"
   ]
  }
 ],
 "metadata": {
  "kernelspec": {
   "display_name": "Python 3 (ipykernel)",
   "language": "python",
   "name": "python3"
  },
  "language_info": {
   "codemirror_mode": {
    "name": "ipython",
    "version": 3
   },
   "file_extension": ".py",
   "mimetype": "text/x-python",
   "name": "python",
   "nbconvert_exporter": "python",
   "pygments_lexer": "ipython3",
   "version": "3.9.19"
  }
 },
 "nbformat": 4,
 "nbformat_minor": 5
}
