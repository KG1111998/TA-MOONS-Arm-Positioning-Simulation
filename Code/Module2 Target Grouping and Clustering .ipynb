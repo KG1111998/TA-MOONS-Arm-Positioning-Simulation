{
 "cells": [
  {
   "cell_type": "code",
   "execution_count": 14,
   "id": "7bd6c97d",
   "metadata": {},
   "outputs": [
    {
     "name": "stdout",
     "output_type": "stream",
     "text": [
      "Enter Source name (Format=\"V1139_cyg\"): NGC_2316\n"
     ]
    }
   ],
   "source": [
    "source_name=input('Enter Source name (Format=\"V1139_cyg\"): ')"
   ]
  },
  {
   "cell_type": "code",
   "execution_count": 15,
   "id": "eb31dc97",
   "metadata": {},
   "outputs": [],
   "source": [
    "import os\n",
    "import numpy as np\n",
    "import pandas as pd\n",
    "import matplotlib.pyplot as plt\n",
    "from astropy.coordinates import SkyCoord\n",
    "import astropy.units as u\n",
    "from sklearn.cluster import KMeans\n",
    "from math import ceil"
   ]
  },
  {
   "cell_type": "code",
   "execution_count": 16,
   "id": "8d611bad",
   "metadata": {},
   "outputs": [],
   "source": [
    "csv_path = fr\"C:\\Users\\kgokh\\Downloads\\TAMOONS NEW FILE\\selected_ysos_{source_name}.csv\"\n",
    "ysos_df = pd.read_csv(csv_path)"
   ]
  },
  {
   "cell_type": "code",
   "execution_count": 17,
   "id": "2696ca5b",
   "metadata": {},
   "outputs": [
    {
     "name": "stdout",
     "output_type": "stream",
     "text": [
      " Using median center: RA=104.926663, DEC=-7.8474125\n"
     ]
    }
   ],
   "source": [
    "ra_center_deg = ysos_df['RA_deg'].median()\n",
    "dec_center_deg = ysos_df['DEC_deg'].median()\n",
    "coord_center = SkyCoord(ra=ra_center_deg*u.deg, dec=dec_center_deg*u.deg)\n",
    "print(f\" Using median center: RA={ra_center_deg}, DEC={dec_center_deg}\")"
   ]
  },
  {
   "cell_type": "code",
   "execution_count": 18,
   "id": "bfffa3d7",
   "metadata": {},
   "outputs": [],
   "source": [
    "ysos_df['coord'] = [SkyCoord(ra=ra*u.deg, dec=dec*u.deg)\n",
    "                    for ra, dec in zip(ysos_df['RA_deg'], ysos_df['DEC_deg'])]\n",
    "ysos_df['offset_arcmin'] = [c.separation(coord_center).arcminute for c in ysos_df['coord']]"
   ]
  },
  {
   "cell_type": "code",
   "execution_count": 19,
   "id": "70af27b7",
   "metadata": {},
   "outputs": [],
   "source": [
    "ysos_df = ysos_df[(ysos_df['offset_arcmin'] <= 6)]"
   ]
  },
  {
   "cell_type": "code",
   "execution_count": 20,
   "id": "85a74592",
   "metadata": {},
   "outputs": [],
   "source": [
    "ysos_df['Jmag_bin'] = ysos_df['Jmag'].apply(lambda x: round(x * 2) / 2)\n",
    "magnitude_groups = ysos_df.groupby('Jmag_bin')"
   ]
  },
  {
   "cell_type": "code",
   "execution_count": 21,
   "id": "37c267cc",
   "metadata": {},
   "outputs": [],
   "source": [
    "initial_sublists = []\n",
    "for mag, group in magnitude_groups:\n",
    "    group = group.sort_values('offset_arcmin')\n",
    "    chunks = [] \n",
    "    i = 0        \n",
    "    while i < len(group):\n",
    "        chunk = group.iloc[i:i+8].copy()  \n",
    "        chunks.append(chunk)              \n",
    "        i += 8                            \n",
    "    initial_sublists.extend(chunks)"
   ]
  },
  {
   "cell_type": "code",
   "execution_count": null,
   "id": "65103d11",
   "metadata": {},
   "outputs": [],
   "source": [
    "def collision_check_acco_offset(sublist, min_sep=0.3):\n",
    "    valid_stars = []\n",
    "    flagged_stars = []\n",
    "\n",
    "    for i in range(len(sublist)):\n",
    "        current_star = sublist.iloc[i]\n",
    "        current_coord = current_star[\"coord\"]\n",
    "        too_close = False\n",
    "        for accepted_star in valid_stars:\n",
    "            accepted_coord = accepted_star[\"coord\"]\n",
    "            separation = current_coord.separation(accepted_coord).arcminute\n",
    "            if separation < min_sep:\n",
    "                too_close = True\n",
    "                break\n",
    "\n",
    "        if not too_close:\n",
    "            valid_stars.append(current_star)\n",
    "        else:\n",
    "            flagged_stars.append(current_star)\n",
    "\n",
    "    return pd.DataFrame(valid_stars), pd.DataFrame(flagged_stars)"
   ]
  },
  {
   "cell_type": "code",
   "execution_count": null,
   "id": "f6f9ca2b",
   "metadata": {},
   "outputs": [],
   "source": [
    "valid_groups = []     \n",
    "flagged_list = []    \n",
    "for sublist in initial_sublists:\n",
    "    valid, flagged = collision_check_acco_offset(sublist)\n",
    "    if not valid.empty:\n",
    "        valid_groups.append(valid)\n",
    "    if not flagged.empty:\n",
    "        flagged_list.append(flagged)"
   ]
  },
  {
   "cell_type": "code",
   "execution_count": null,
   "id": "77b3a853",
   "metadata": {},
   "outputs": [],
   "source": [
    "if flagged_list:\n",
    "    retry_df = pd.concat(flagged_list).reset_index(drop=True)\n",
    "    retry_df[\"Jmag_bin\"] = retry_df[\"Jmag\"].apply(lambda x: round(x * 2) / 2)\n",
    "\n",
    "    for _, group in retry_df.groupby(\"Jmag_bin\"):\n",
    "        group = group.sort_values(\"offset_arcmin\")\n",
    "        i = 0\n",
    "        while i < len(group):\n",
    "            chunk = group.iloc[i:i + 8]\n",
    "            valid, _ = collision_check_acco_offset(chunk)\n",
    "            if not valid.empty:\n",
    "                valid_groups.append(valid)\n",
    "            i=i+8"
   ]
  },
  {
   "cell_type": "code",
   "execution_count": 25,
   "id": "188fac3b",
   "metadata": {},
   "outputs": [],
   "source": [
    "final_group = []\n",
    "for group in valid_groups:\n",
    "    if len(group) > 8:\n",
    "        coords_array = np.array([\n",
    "            [c.ra.degree, c.dec.degree] for c in group['coord']\n",
    "        ])\n",
    "        k = ceil(len(group) / 8)\n",
    "        kmeans = KMeans(n_clusters=k, random_state=42).fit(coords_array)\n",
    "        group['cluster'] = kmeans.labels_\n",
    "        for label in range(k):\n",
    "            cluster_group = group[group['cluster'] == label].drop(columns='cluster')\n",
    "            final_group.append(cluster_group)\n",
    "    else:\n",
    "        final_group.append(group)"
   ]
  },
  {
   "cell_type": "code",
   "execution_count": 26,
   "id": "2ee43dc4",
   "metadata": {},
   "outputs": [
    {
     "name": "stdout",
     "output_type": "stream",
     "text": [
      "Total groups: 12. Results saved to 'grouped_ysos_NGC_2316.csv'.\n"
     ]
    }
   ],
   "source": [
    "output = []\n",
    "for i, group in enumerate(final_group, 1):\n",
    "    for _, row in group.iterrows():\n",
    "        coord = row['coord']\n",
    "        ra_hms, dec_dms = coord.to_string('hmsdms').split()\n",
    "        output.append({\n",
    "            'Group': i,\n",
    "            'GAIA_Source_ID': row['GAIA_Source_ID'],\n",
    "            'RA_HMS': ra_hms,\n",
    "            'DEC_DMS': dec_dms,\n",
    "            'RA_deg': coord.ra.degree,\n",
    "            'DEC_deg': coord.dec.degree,\n",
    "            'Jmag': row['Jmag'],\n",
    "            'Offset_arcmin': row['offset_arcmin']\n",
    "        })\n",
    "\n",
    "df_out = pd.DataFrame(output)\n",
    "df_out.to_csv(f\"grouped_ysos_{source_name}.csv\", index=False)\n",
    "print(f\"Total groups: {len(final_group)}. Results saved to 'grouped_ysos_{source_name}.csv'.\")"
   ]
  }
 ],
 "metadata": {
  "kernelspec": {
   "display_name": "Python 3 (ipykernel)",
   "language": "python",
   "name": "python3"
  },
  "language_info": {
   "codemirror_mode": {
    "name": "ipython",
    "version": 3
   },
   "file_extension": ".py",
   "mimetype": "text/x-python",
   "name": "python",
   "nbconvert_exporter": "python",
   "pygments_lexer": "ipython3",
   "version": "3.9.19"
  }
 },
 "nbformat": 4,
 "nbformat_minor": 5
}
