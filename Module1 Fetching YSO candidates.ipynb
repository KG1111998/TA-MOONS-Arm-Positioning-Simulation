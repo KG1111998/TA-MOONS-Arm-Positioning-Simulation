{
 "cells": [
  {
   "cell_type": "code",
   "execution_count": 18,
   "id": "fb69b6cd",
   "metadata": {},
   "outputs": [],
   "source": [
    "#Imported Libraries\n",
    "import numpy as np\n",
    "import pandas as pd\n",
    "import matplotlib.pyplot as plt\n",
    "from ipyaladin import Aladin\n",
    "from ipywidgets import Layout, Box, Button, HTML\n",
    "from astroquery.vizier import Vizier\n",
    "from astropy.coordinates import SkyCoord\n",
    "import astropy.units as u\n",
    "from astropy.table import Table\n",
    "import os"
   ]
  },
  {
   "cell_type": "code",
   "execution_count": 19,
   "id": "b26dbc3a",
   "metadata": {},
   "outputs": [
    {
     "name": "stdout",
     "output_type": "stream",
     "text": [
      "Enter target coordinates (format: HH MM SS DD MM SS): 20 58 46.99 +44 19 48.0\n"
     ]
    }
   ],
   "source": [
    "target_input = input('Enter target coordinates (format: HH MM SS DD MM SS): ')"
   ]
  },
  {
   "cell_type": "code",
   "execution_count": 20,
   "id": "eb9773f9",
   "metadata": {
    "scrolled": true
   },
   "outputs": [
    {
     "name": "stdout",
     "output_type": "stream",
     "text": [
      "Enter Source Name (format: IC_348): NGC_7000\n"
     ]
    }
   ],
   "source": [
    "source_name=input('Enter Source Name (format: IC_348): ')"
   ]
  },
  {
   "cell_type": "code",
   "execution_count": 21,
   "id": "a39aa37b",
   "metadata": {},
   "outputs": [],
   "source": [
    "# Initialize Aladin sky viewer \n",
    "aladin = Aladin(\n",
    "    layout=Layout(width=\"60%\", height=\"500px\"),\n",
    "    target=target_input,\n",
    "    fov=0.1667,  # 12 arcmin in degrees\n",
    "    show_projection_control=False,\n",
    "    show_fullscreen_control=True,\n",
    ")\n"
   ]
  },
  {
   "cell_type": "code",
   "execution_count": 22,
   "id": "b3453e39",
   "metadata": {},
   "outputs": [],
   "source": [
    "# Query Marton+2019 YSO catalog from Vizier around target\n",
    "def fetch_ysos(center_coord_str: str, search_radius: u.Quantity = 5 * u.arcmin) -> Table:\n",
    "    coord = SkyCoord(center_coord_str, unit=(u.hourangle, u.deg), frame='icrs')\n",
    "    Vizier.ROW_LIMIT = -1\n",
    "    catalog_id = \"II/360\"  # Marton+2019 YSO catalog\n",
    "    columns = [\"Source\", \"RA_ICRS\", \"DE_ICRS\", \"Jmag\"]\n",
    "    vizier = Vizier(columns=columns)\n",
    "    result = vizier.query_region(coord, radius=search_radius, catalog=catalog_id)\n",
    "    \n",
    "    if len(result) == 0:\n",
    "        return Table() \n",
    "    \n",
    "    yso_data = result[0]\n",
    "    yso_data.rename_column(\"Source\", \"GAIA_Source_ID\")\n",
    "    yso_data.rename_column(\"RA_ICRS\", \"RA_deg\")\n",
    "    yso_data.rename_column(\"DE_ICRS\", \"DEC_deg\")\n",
    "    return yso_data\n"
   ]
  },
  {
   "cell_type": "code",
   "execution_count": 23,
   "id": "3d97e8d7",
   "metadata": {},
   "outputs": [],
   "source": [
    "# Output box \n",
    "table_output = HTML(layout=Layout(height=\"500px\", overflow=\"auto\"))\n",
    "selected_ysos_df = pd.DataFrame()\n",
    "\n",
    "# Button action\n",
    "def handle_auto_selection():\n",
    "    global selected_ysos_df\n",
    "\n",
    "    center_coord = target_input\n",
    "    yso_table = fetch_ysos(center_coord)\n",
    "\n",
    "    if len(yso_table) == 0:\n",
    "        table_output.value = \"<b>No YSOs found within 6 arcmin.</b>\"\n",
    "        return\n",
    "\n",
    "    records = []\n",
    "    html = '<table border=\"1\" style=\"border-collapse:collapse;\">'\n",
    "    html += \"<tr><th>GAIA_Source_ID</th><th>RA (deg)</th><th>DEC (deg)</th><th>Jmag</th></tr>\"\n",
    "    \n",
    "    for row in yso_table:\n",
    "        record = {\n",
    "            \"GAIA_Source_ID\": row[\"GAIA_Source_ID\"],\n",
    "            \"RA_deg\": float(row[\"RA_deg\"]),\n",
    "            \"DEC_deg\": float(row[\"DEC_deg\"]),\n",
    "            \"Jmag\": float(row[\"Jmag\"])\n",
    "        }\n",
    "        records.append(record)\n",
    "        html += f\"<tr><td>{record['GAIA_Source_ID']}</td><td>{record['RA_deg']:.6f}</td><td>{record['DEC_deg']:.6f}</td><td>{record['Jmag']:.2f}</td></tr>\"\n",
    "    \n",
    "    html += \"</table>\"\n",
    "    table_output.value = html\n",
    "\n",
    "    # Save to CSV\n",
    "    selected_ysos_df = pd.DataFrame(records)\n",
    "    csv_path = os.path.join(os.getcwd(), f\"selected_ysos_{source_name}.csv\")\n",
    "    selected_ysos_df.to_csv(csv_path, index=False)\n",
    "    print(f\"Selected YSOs saved to: {csv_path}\")\n"
   ]
  },
  {
   "cell_type": "code",
   "execution_count": 24,
   "id": "3a5f1d8f",
   "metadata": {},
   "outputs": [],
   "source": [
    "# Trigger auto-selection\n",
    "select_button = Button(description=\"Auto-select YSOs (6 arcmin)\")\n",
    "select_button.on_click(lambda _: handle_auto_selection())\n"
   ]
  },
  {
   "cell_type": "code",
   "execution_count": 25,
   "id": "9aa4ed06",
   "metadata": {},
   "outputs": [
    {
     "data": {
      "application/vnd.jupyter.widget-view+json": {
       "model_id": "92f3d34f3f2844cc90c6c86182c24188",
       "version_major": 2,
       "version_minor": 0
      },
      "text/plain": [
       "Box(children=(Aladin(layout=Layout(height='500px', width='60%')), Button(description='Auto-select YSOs (6 arcm…"
      ]
     },
     "execution_count": 25,
     "metadata": {},
     "output_type": "execute_result"
    },
    {
     "name": "stdout",
     "output_type": "stream",
     "text": [
      "Selected YSOs saved to: C:\\Users\\kgokh\\Downloads\\TAMOONS\\MAIN CODES\\selected_ysos_NGC_7000.csv\n"
     ]
    }
   ],
   "source": [
    "# Load initial catalog view in Aladin\n",
    "ysos_table = fetch_ysos(target_input)\n",
    "if len(ysos_table) > 0:\n",
    "    aladin.add_table(ysos_table)\n",
    "\n",
    "# Arrange all widgets in layout\n",
    "layout = Box(\n",
    "    children=[aladin, select_button, table_output],\n",
    "    layout=Layout(display=\"flex\", flex_flow=\"row\", align_items=\"stretch\", width=\"100%\")\n",
    ")\n",
    "\n",
    "# Display the entire interface\n",
    "layout\n"
   ]
  },
  {
   "cell_type": "code",
   "execution_count": null,
   "id": "e7309837",
   "metadata": {},
   "outputs": [],
   "source": []
  }
 ],
 "metadata": {
  "kernelspec": {
   "display_name": "Python 3 (ipykernel)",
   "language": "python",
   "name": "python3"
  },
  "language_info": {
   "codemirror_mode": {
    "name": "ipython",
    "version": 3
   },
   "file_extension": ".py",
   "mimetype": "text/x-python",
   "name": "python",
   "nbconvert_exporter": "python",
   "pygments_lexer": "ipython3",
   "version": "3.9.19"
  }
 },
 "nbformat": 4,
 "nbformat_minor": 5
}
