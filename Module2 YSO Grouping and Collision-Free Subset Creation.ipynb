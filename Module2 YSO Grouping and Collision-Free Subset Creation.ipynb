{
 "cells": [
  {
   "cell_type": "code",
   "execution_count": 28,
   "id": "3bba66ff",
   "metadata": {},
   "outputs": [],
   "source": [
    "# Imported Libraries\n",
    "import os\n",
    "import numpy as np\n",
    "import pandas as pd\n",
    "import matplotlib.pyplot as plt\n",
    "from astropy.coordinates import SkyCoord\n",
    "import astropy.units as u\n",
    "from sklearn.cluster import KMeans\n",
    "from math import ceil"
   ]
  },
  {
   "cell_type": "code",
   "execution_count": 29,
   "id": "7bd6c97d",
   "metadata": {},
   "outputs": [
    {
     "name": "stdout",
     "output_type": "stream",
     "text": [
      "Enter Source name (Format=\"V1139_cyg\"): NGC_7000\n"
     ]
    }
   ],
   "source": [
    "#Enter Source Name\n",
    "source_name=input('Enter Source name (Format=\"V1139_cyg\"): ')"
   ]
  },
  {
   "cell_type": "code",
   "execution_count": 30,
   "id": "33a634f5",
   "metadata": {},
   "outputs": [
    {
     "name": "stdout",
     "output_type": "stream",
     "text": [
      " Median center (in Deg): RA=314.77148250000005, DEC=44.305451\n"
     ]
    }
   ],
   "source": [
    "# Load YSO candidate list\n",
    "csv_path = fr\"C:\\Users\\kgokh\\Downloads\\TAMOONS\\MAIN CODES\\selected_ysos_{source_name}.csv\" \n",
    "ysos_df = pd.read_csv(csv_path)\n",
    "\n",
    "# Compute median center for RA and DEC\n",
    "ra_center_deg = ysos_df['RA_deg'].median()\n",
    "dec_center_deg = ysos_df['DEC_deg'].median()\n",
    "coord_center = SkyCoord(ra=ra_center_deg*u.deg, dec=dec_center_deg*u.deg)\n",
    "\n",
    "print(f\" Median center (in Deg): RA={ra_center_deg}, DEC={dec_center_deg}\")\n"
   ]
  },
  {
   "cell_type": "code",
   "execution_count": 31,
   "id": "32c2f159",
   "metadata": {},
   "outputs": [],
   "source": [
    "# Convert all coordinates to SkyCoord\n",
    "ysos_df['coord'] = [SkyCoord(ra=ra*u.deg, dec=dec*u.deg)\n",
    "                    for ra, dec in zip(ysos_df['RA_deg'], ysos_df['DEC_deg'])]\n",
    "# compute separation from center\n",
    "ysos_df['offset_arcmin'] = [c.separation(coord_center).arcminute for c in ysos_df['coord']]\n",
    "\n",
    "# Filter objects between 0.25 and 6 arcmin\n",
    "ysos_df = ysos_df[(ysos_df['offset_arcmin'] > 0.3) & (ysos_df['offset_arcmin'] <= 6)]\n"
   ]
  },
  {
   "cell_type": "code",
   "execution_count": 32,
   "id": "c4f85ecd",
   "metadata": {},
   "outputs": [],
   "source": [
    "# Group objects by brightness in 0.5 magnitude bins\n",
    "ysos_df['Jmag_bin'] = ysos_df['Jmag'].apply(lambda x: round(x * 2) / 2)\n",
    "magnitude_groups = ysos_df.groupby('Jmag_bin')\n"
   ]
  },
  {
   "cell_type": "code",
   "execution_count": 33,
   "id": "be85902f",
   "metadata": {},
   "outputs": [],
   "source": [
    "from itertools import combinations\n",
    "\n",
    "def enforce_collision_free_groups(group_df, min_sep=0.3):\n",
    "    coords = list(group_df['coord'])\n",
    "    items = list(group_df.to_dict('records'))\n",
    "\n",
    "    clusters = []\n",
    "\n",
    "    for item, coord in zip(items, coords):\n",
    "        assigned = False\n",
    "        for cluster in clusters:\n",
    "            if all(coord.separation(SkyCoord(row['coord'])).arcminute >= min_sep for row in cluster):\n",
    "                cluster.append(item)\n",
    "                assigned = True\n",
    "                break\n",
    "        if not assigned:\n",
    "            clusters.append([item])\n",
    "\n",
    "    # Convert list of dict clusters to list of DataFrames\n",
    "    return [pd.DataFrame(cluster) for cluster in clusters if len(cluster) > 0]\n"
   ]
  },
  {
   "cell_type": "code",
   "execution_count": 34,
   "id": "68eb486c",
   "metadata": {},
   "outputs": [],
   "source": [
    "# Filteration by offset \n",
    "filtered_groups = {\n",
    "    mag: group[(group['offset_arcmin'] > 0.3) & (group['offset_arcmin'] <= 6)].copy()\n",
    "    for mag, group in magnitude_groups if not group.empty\n",
    "}\n",
    "\n",
    "# Chunk & Split Collision-Free Groups\n",
    "sublists = []\n",
    "for mag, group in filtered_groups.items():\n",
    "    group = group.sort_values('offset_arcmin')\n",
    "    chunks = [group.iloc[i:i+8].copy() for i in range(0, len(group), 8)]\n",
    "    for chunk in chunks:\n",
    "        collision_free = enforce_collision_free_groups(chunk)\n",
    "        sublists.extend(collision_free)\n",
    "\n"
   ]
  },
  {
   "cell_type": "code",
   "execution_count": 35,
   "id": "9d8f6496",
   "metadata": {},
   "outputs": [],
   "source": [
    "# Collision check if all targets are ≥ 0.3 arcmin apart\n",
    "def collision_check(sublist, min_sep=0.3):\n",
    "    valid_targets = []\n",
    "    for _, row in sublist.iterrows():\n",
    "        this_coord = row['coord']\n",
    "        if all(this_coord.separation(other['coord']).arcminute >= min_sep for other in valid_targets):\n",
    "            valid_targets.append(row)\n",
    "    return pd.DataFrame(valid_targets)\n",
    "\n",
    "# Apply to all sublists\n",
    "collision_free_sublists = [collision_check(sublist) for sublist in sublists]\n"
   ]
  },
  {
   "cell_type": "code",
   "execution_count": 36,
   "id": "f732458e",
   "metadata": {},
   "outputs": [],
   "source": [
    "# KMeans clustering if group has > 8 members\n",
    "final_sublists = []\n",
    "\n",
    "for group in collision_free_sublists:\n",
    "    if len(group) > 8:\n",
    "        coords_array = np.array([[c.ra.degree, c.dec.degree] for c in group['coord']])\n",
    "        k = ceil(len(group) / 8)\n",
    "        kmeans = KMeans(n_clusters=k, random_state=42).fit(coords_array)\n",
    "        group['cluster'] = kmeans.labels_\n",
    "        for label in range(k):\n",
    "            cluster_group = group[group['cluster'] == label].drop(columns='cluster')\n",
    "            final_sublists.append(cluster_group)\n",
    "    else:\n",
    "        final_sublists.append(group)\n"
   ]
  },
  {
   "cell_type": "code",
   "execution_count": 37,
   "id": "549d3195",
   "metadata": {},
   "outputs": [
    {
     "name": "stdout",
     "output_type": "stream",
     "text": [
      " Done! Total groups: 13. Results saved to 'grouped_ysos_NGC_7000.csv'.\n"
     ]
    }
   ],
   "source": [
    "# Format and save output\n",
    "output = []\n",
    "for i, group in enumerate(final_sublists, 1):\n",
    "    for _, row in group.iterrows():\n",
    "        coord = row['coord']\n",
    "        ra_hms, dec_dms = coord.to_string('hmsdms').split()\n",
    "        output.append({\n",
    "            'Group': i,\n",
    "            'GAIA_Source_ID': row['GAIA_Source_ID'],\n",
    "            'RA_HMS': ra_hms,\n",
    "            'DEC_DMS': dec_dms,\n",
    "            'RA_deg': coord.ra.degree,\n",
    "            'DEC_deg': coord.dec.degree,\n",
    "            'Jmag': row['Jmag'],\n",
    "            'Offset_arcmin': row['offset_arcmin']\n",
    "        })\n",
    "\n",
    "df_out = pd.DataFrame(output)\n",
    "df_out.to_csv(fr\"C:\\Users\\kgokh\\Downloads\\TAMOONS\\MAIN CODES\\grouped_ysos_{source_name}.csv\", index=False)\n",
    "\n",
    "print(f\" Done! Total groups: {len(final_sublists)}. Results saved to 'grouped_ysos_{source_name}.csv'.\")\n"
   ]
  },
  {
   "cell_type": "code",
   "execution_count": 40,
   "id": "f02bf027",
   "metadata": {},
   "outputs": [
    {
     "name": "stdout",
     "output_type": "stream",
     "text": [
      " Group Preview Plots saved to folder: 'C:\\Users\\kgokh\\Downloads\\TAMOONS\\MAIN CODES\\group_plots_NGC_7000'\n"
     ]
    }
   ],
   "source": [
    "# Create output folder for previews\n",
    "preview_dir = fr\"C:\\Users\\kgokh\\Downloads\\TAMOONS\\MAIN CODES\\group_plots_{source_name}\"\n",
    "os.makedirs(preview_dir, exist_ok=True)\n",
    "colors = plt.cm.tab10.colors  # 10-color palette\n",
    "\n",
    "# Plot each group with RA/DEC offsets\n",
    "for i, group in enumerate(final_sublists, 1):\n",
    "    fig, ax = plt.subplots(figsize=(8, 8))\n",
    "    group_coords = SkyCoord(ra=group['RA_deg'].values*u.deg, dec=group['DEC_deg'].values*u.deg)\n",
    "    center_coord = SkyCoord(ra=ra_center_deg*u.deg, dec=dec_center_deg*u.deg)\n",
    "\n",
    "    delta_ra = (group_coords.ra - center_coord.ra).arcmin\n",
    "    delta_dec = (group_coords.dec - center_coord.dec).arcmin\n",
    "\n",
    "    plt.scatter(delta_ra, delta_dec, label=f'Group {i}', color=colors[(i - 1) % 10], s=50)\n",
    "    plt.scatter(0, 0, c='black', marker='*', s=150, label='Center')\n",
    "\n",
    "    x_ticks = np.linspace(-6, 6, 5)\n",
    "    y_ticks = np.linspace(-6, 6, 5)\n",
    "    plt.xticks(x_ticks, [f\"{x:.1f}\" for x in x_ticks])\n",
    "    plt.yticks(y_ticks, [f\"{y:.1f}\" for y in y_ticks])\n",
    "\n",
    "    plt.xlabel(\"ΔRA (arcmin)\")\n",
    "    plt.ylabel(\"ΔDEC (arcmin)\")\n",
    "    plt.title(f\"Group {i} plot\")\n",
    "    plt.grid(True)\n",
    "    plt.legend()\n",
    "    plt.gca().invert_xaxis()\n",
    "    plt.tight_layout()\n",
    "\n",
    "    preview_path = os.path.join(preview_dir, f\"group_{i}_plots_{source_name}.png\")\n",
    "    plt.savefig(preview_path, bbox_inches='tight')\n",
    "    plt.close()\n",
    "\n",
    "print(f\" Group Preview Plots saved to folder: '{preview_dir}'\")\n"
   ]
  },
  {
   "cell_type": "code",
   "execution_count": null,
   "id": "97f76eeb",
   "metadata": {},
   "outputs": [],
   "source": []
  },
  {
   "cell_type": "code",
   "execution_count": null,
   "id": "eb31dc97",
   "metadata": {},
   "outputs": [],
   "source": []
  }
 ],
 "metadata": {
  "kernelspec": {
   "display_name": "Python 3 (ipykernel)",
   "language": "python",
   "name": "python3"
  },
  "language_info": {
   "codemirror_mode": {
    "name": "ipython",
    "version": 3
   },
   "file_extension": ".py",
   "mimetype": "text/x-python",
   "name": "python",
   "nbconvert_exporter": "python",
   "pygments_lexer": "ipython3",
   "version": "3.9.19"
  }
 },
 "nbformat": 4,
 "nbformat_minor": 5
}
